{
 "cells": [
  {
   "cell_type": "markdown",
   "metadata": {},
   "source": [
    "# Крыжановский Максим, 317\n",
    "\n",
    "**Алгоритмы из курса методы оптимизации**"
   ]
  },
  {
   "cell_type": "code",
   "execution_count": 2,
   "metadata": {},
   "outputs": [],
   "source": [
    "import numpy as np\n",
    "from scipy.optimize import LinearConstraint as LC\n",
    "from scipy.optimize import NonlinearConstraint as NC\n",
    "from scipy.optimize import minimize\n",
    "from scipy.optimize import linprog"
   ]
  },
  {
   "cell_type": "markdown",
   "metadata": {},
   "source": [
    "# Метод проекции градиента\n",
    "\n",
    "Рассмотрим задачу минимизации\n",
    "\n",
    "$$J(u) = \\|u\\|^2_{\\mathbb{H}} + \\left<u,a\\right>^2_{\\mathbb{H}} + \\left<u,b\\right>_{\\mathbb{H}} \\rightarrow \\inf_{u \\in U},  \\|a\\|_{\\mathbb{H}} = \\|b\\|_{\\mathbb{H}} = 1, \\langle a, b\\rangle_{\\mathbb{H}} = 0$$\n",
    "\n",
    "$$ U = \\{u \\in \\mathbb{H} \\ | \\ \\|u - u_0\\|_{\\mathbb{H}} \\leq R \\}$$"
   ]
  },
  {
   "cell_type": "code",
   "execution_count": 3,
   "metadata": {},
   "outputs": [],
   "source": [
    "class FunctionOracle:\n",
    "    def __init__(self, a, b):\n",
    "        self.a = a\n",
    "        self.b = b\n",
    "        \n",
    "    def __call__(self, u):\n",
    "        return np.linalg.norm(u) ** 2 + np.dot(u,self.a) ** 2 + np.dot(u,self.b)\n",
    "    \n",
    "    def grad(self, u):\n",
    "        return 2 * u + 2 * np.dot(u, self.a) * self.a + self.b"
   ]
  },
  {
   "cell_type": "code",
   "execution_count": 8,
   "metadata": {},
   "outputs": [],
   "source": [
    "class Solver:\n",
    "    def __init__(self, oracle, u0, R, learning_rate=0.01, tolerance=1e-6, max_iterations=1000):\n",
    "        self.oracle = oracle\n",
    "        self.u0 = u0\n",
    "        self.R = R\n",
    "        self.learning_rate = learning_rate\n",
    "        self.tolerance = tolerance\n",
    "        self.max_iterations = max_iterations\n",
    "        \n",
    "    def project(self, u):\n",
    "        norm_diff = np.linalg.norm(u - self.u0)\n",
    "        if norm_diff > self.R:\n",
    "            u = self.u0 + self.R * (u - self.u0) / norm_diff\n",
    "        return u\n",
    "    \n",
    "    def solve(self, eps=1e-8):\n",
    "        u_k = self.u0\n",
    "        iterations = 0\n",
    "        u_list = []\n",
    "\n",
    "        while True:\n",
    "            projection = self.project(u_k - self.learning_rate * self.oracle.grad(u_k))\n",
    "\n",
    "            u_list.append(u_k)\n",
    "            u_prev, u_k = u_k, projection\n",
    "\n",
    "            iterations += 1\n",
    "            if np.linalg.norm(u_k - u_prev) < eps:\n",
    "                break\n",
    "\n",
    "        return u_k, iterations, u_list"
   ]
  },
  {
   "cell_type": "markdown",
   "metadata": {},
   "source": [
    "**Пример импользования кода**\n",
    "\n",
    "В примере использования, сравним результаты, полученные нашим алгоритмом, с результатами библиотеки scipy."
   ]
  },
  {
   "cell_type": "code",
   "execution_count": 11,
   "metadata": {},
   "outputs": [
    {
     "name": "stdout",
     "output_type": "stream",
     "text": [
      "Custom Solver Solution: [ 0.03100984 -0.38320339]\n",
      "J value: -0.23443533176574022\n",
      "Scipy Minimize Solution: [ 0.03101152 -0.38320473]\n",
      "J value: -0.23443543646034093\n"
     ]
    }
   ],
   "source": [
    "a = np.array([1, 0])\n",
    "b = np.array([0, 1])\n",
    "u0 = np.array([0.5, 0.5])\n",
    "R = 1.0\n",
    "\n",
    "oracle = FunctionOracle(a, b)\n",
    "\n",
    "solver = Solver(oracle, u0, R)\n",
    "res = solver.solve()\n",
    "print(\"Custom Solver Solution:\", res[0])\n",
    "print(\"J value:\", oracle(res[0]))\n",
    "\n",
    "def objective(u):\n",
    "    return oracle(u)\n",
    "\n",
    "def gradient(u):\n",
    "    return oracle.grad(u)\n",
    "t\n",
    "constraints = {'type': 'ineq', 'fun': lambda u: R - np.linalg.norm(u - u0)}\n",
    "\n",
    "result = minimize(objective, u0, method='SLSQP', jac=gradient, constraints=[constraints])\n",
    "solution_scipy = result.x\n",
    "print(\"Scipy Minimize Solution:\", solution_scipy)\n",
    "print(\"J value:\", oracle(solution_scipy))"
   ]
  },
  {
   "cell_type": "markdown",
   "metadata": {},
   "source": [
    "# Метод Ньютона\n",
    "\n",
    "В этом разделе реализуем метод Ньютона для следующей задачи\n",
    "\n",
    "$$J(u) = \\frac{1}{2} \\|u-a\\|^4_{\\mathbb{H}} + \\|u-b\\|^2_{\\mathbb{H}} \\rightarrow \\inf_{u \\in U},  U=\\{u \\in \\mathbb{H} | \\left< a+b, u\\right>_{\\mathbb{H}} \\geq 2\\}, \\|a\\|_{\\mathbb{H}} = \\|b\\|_{\\mathbb{H}} = 1, \\left< a, b\\right>_{\\mathbb{H}} = 0$$"
   ]
  },
  {
   "cell_type": "code",
   "execution_count": 12,
   "metadata": {},
   "outputs": [],
   "source": [
    "class FunctionOracle():\n",
    "    def __init__(self, a, b):\n",
    "        self.a = a\n",
    "        self.b = b\n",
    "\n",
    "    def __call__(self, u):\n",
    "        return 1/2 * (np.linalg.norm(u - self.a) ** 4) + np.linalg.norm(u - self.b) ** 2\n",
    "    \n",
    "    def grad(self, u):\n",
    "        return 2 * (np.linalg.norm(u - self.a) ** 2) * (u - self.a) + 2 * (u - self.b)\n",
    "    \n",
    "    def hess(self, u, h):\n",
    "        return 4 * np.dot(u - self.a, h) * (u - self.a) + 2 * ((np.linalg.norm(u-self.a) ** 2) + 1) * h"
   ]
  },
  {
   "cell_type": "code",
   "execution_count": 15,
   "metadata": {},
   "outputs": [],
   "source": [
    "class SolverNewton:\n",
    "    def __init__(self, oracle, u0, tolerance=1e-6, max_iterations=100):\n",
    "        self.oracle = oracle\n",
    "        self.u0 = u0\n",
    "        self.tolerance = tolerance\n",
    "        self.max_iterations = max_iterations\n",
    "        \n",
    "    def solve(self):\n",
    "        u_list = []\n",
    "        u_k = self.u0\n",
    "        iterations = 0\n",
    "\n",
    "        while True:\n",
    "            u_list.append(u_k)\n",
    "            u_prev, u_k = u_k, self.gradient_projection(self.grad_G(u_k), self.projector, self.u0, 1/4, eps=self.tolerance)[0]\n",
    "\n",
    "            iterations += 1\n",
    "            if np.linalg.norm(u_k - u_prev) < self.tolerance:\n",
    "                break\n",
    "        return u_k, iterations, u_list\n",
    "    \n",
    "    def gradient_projection(self, grad_J, projector, u_0, alpha, eps=1e-8):\n",
    "        u_k = u_0\n",
    "        iterations = 0\n",
    "        u_list = []\n",
    "\n",
    "        while True:\n",
    "            projection = projector(u_k - alpha * grad_J(u_k))\n",
    "\n",
    "            u_list.append(u_k)\n",
    "            u_prev, u_k = u_k, projection\n",
    "\n",
    "            iterations += 1\n",
    "            if np.linalg.norm(u_k - u_prev) < eps:\n",
    "                break\n",
    "\n",
    "        return u_k, iterations, u_list\n",
    "    \n",
    "    def grad_G(self, u_k):\n",
    "        def _inner(u):\n",
    "            return self.oracle.grad(u_k) + 4 * (u_k - self.oracle.a) * np.dot(u_k - self.oracle.a, u - u_k) + 2 * (np.linalg.norm(u_k - self.oracle.a) ** 2 + 1) * (u - u_k)\n",
    "        return _inner\n",
    "    \n",
    "    def projector(self, u):\n",
    "        if np.dot(self.oracle.a + self.oracle.b, u) >= 2:\n",
    "            return u\n",
    "        return u - (np.dot(self.oracle.a + self.oracle.b, u) - 2) * (self.oracle.a + self.oracle.b) / (np.linalg.norm(self.oracle.a + self.oracle.b) ** 2)"
   ]
  },
  {
   "cell_type": "code",
   "execution_count": 17,
   "metadata": {},
   "outputs": [
    {
     "name": "stdout",
     "output_type": "stream",
     "text": [
      "Newton Solver Solution: [1.00000012 0.99999988]\n",
      "Scipy Minimize Solution: [0.99998258 1.00001742]\n"
     ]
    }
   ],
   "source": [
    "a = np.array([1.0, 0.0])\n",
    "b = np.array([0.0, 1.0])\n",
    "u0 = np.array([0.5, 0.5])\n",
    "\n",
    "oracle = FunctionOracle(a, b)\n",
    "solver_newton = SolverNewton(oracle, u0)\n",
    "solution_newton = solver_newton.solve()\n",
    "print(\"Newton Solver Solution:\", solution_newton[0])\n",
    "print(\"J value:\", oracle(solution_newton[0]))\n",
    "\n",
    "# Define the objective function and gradient for scipy.optimize.minimize\n",
    "def objective(u):\n",
    "    return oracle(u)\n",
    "\n",
    "def gradient(u):\n",
    "    return oracle.grad(u)\n",
    "\n",
    "# Use scipy.optimize.minimize with 'Newton-CG' method\n",
    "result = minimize(objective, u0, method='SLSQP', constraints=LC(a + b, 2, np.inf))\n",
    "solution_scipy = result.x\n",
    "print(\"Scipy Minimize Solution:\", solution_scipy)\n",
    "print(\"J value:\", oracle(solution_scipy))"
   ]
  },
  {
   "cell_type": "code",
   "execution_count": null,
   "metadata": {},
   "outputs": [],
   "source": []
  }
 ],
 "metadata": {
  "kernelspec": {
   "display_name": ".venv",
   "language": "python",
   "name": "python3"
  },
  "language_info": {
   "codemirror_mode": {
    "name": "ipython",
    "version": 3
   },
   "file_extension": ".py",
   "mimetype": "text/x-python",
   "name": "python",
   "nbconvert_exporter": "python",
   "pygments_lexer": "ipython3",
   "version": "3.12.3"
  }
 },
 "nbformat": 4,
 "nbformat_minor": 2
}
